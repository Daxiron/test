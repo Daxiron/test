{
 "cells": [
  {
   "cell_type": "markdown",
   "metadata": {},
   "source": [
    "书面作业\n",
    "\n",
    "1.有监督学习与无监督学习的区别：有监督是指数据集本身既带有真实标签，那么在经过数据处理之后，我们就可以把得到的算法标签和真实标签进行比对，以确认它的准确度。而无监督学习就没有了这个参照系。\n",
    "\n",
    "2.\n",
    "1）回归算法\n",
    "2）基于实例的算法，\n",
    "3）决策树学习，\n",
    "4）贝叶斯方法，\n",
    "5）基于核的算法，\n",
    "6）聚类算法，\n",
    "7）降低维度算法，\n",
    "8）关联规则学习，\n",
    "9）集成算法\n",
    "\n",
    "3.横轴的召回率可以很好的体现出模型对目标指标的实际达成情况，该指标不会被大量的反面数据影响，精确的表现出目标的达成情况。"
   ]
  },
  {
   "cell_type": "code",
   "execution_count": 27,
   "metadata": {},
   "outputs": [
    {
     "name": "stdout",
     "output_type": "stream",
     "text": [
      "1\n",
      "第一组数据的标签为1\n",
      "0\n",
      "第二组数据的标签为2\n",
      "5\n",
      "第三组数据的标签为1\n"
     ]
    }
   ],
   "source": [
    "#代码作业\n",
    "#!/usr/bin/env python3\n",
    "# -*- coding: utf-8 -*-\n",
    "\n",
    "pri=[z1,z2,z3,z4,z5,z6]\n",
    "\n",
    "z1=[1,1,2]\n",
    "z2=[0.4,5.2,1]\n",
    "z3=[-2.8,-1.1,2]\n",
    "z4=[3.2,1.4,1]\n",
    "z5=[-1.3,3.2,1]\n",
    "z6=[-3,3.1,1]\n",
    "\n",
    "t1=[-2.6,6.6]\n",
    "t2=[0.4,0.6]\n",
    "t3=[-2.5,1.2]\n",
    "\n",
    "def contrast(x,y):\n",
    "    p = ((x[0]-y[0])**2) + ((x[1]-y[1])**2)\n",
    "    return p\n",
    "\n",
    "# t1结果\n",
    "num=1000\n",
    "for i in range(0,6):\n",
    "    temp = contrast(t1,pri[i])\n",
    "    if temp < num:\n",
    "        num = temp\n",
    "        code = i\n",
    "\n",
    "print(code)\n",
    "res=pri[code]\n",
    "print(\"第一组数据的标签为\"+ str(res[2]) )\n",
    "\n",
    "\n",
    "# t2结果\n",
    "num=1000\n",
    "for i in range(0,6):\n",
    "    temp = contrast(t2,pri[i])\n",
    "    if temp < num:\n",
    "        num = temp\n",
    "        code = i\n",
    "\n",
    "print(code)\n",
    "res=pri[code]\n",
    "print(\"第二组数据的标签为\"+ str(res[2]) )\n",
    "\n",
    "# t3结果\n",
    "num=1000\n",
    "for i in range(0,6):\n",
    "    temp = contrast(t3,pri[i])\n",
    "    if temp < num:\n",
    "        num = temp\n",
    "        code = i\n",
    "\n",
    "print(code)\n",
    "res=pri[code]\n",
    "print(\"第三组数据的标签为\"+ str(res[2]) )\n",
    " "
   ]
  },
  {
   "cell_type": "code",
   "execution_count": null,
   "metadata": {},
   "outputs": [],
   "source": []
  }
 ],
 "metadata": {
  "kernelspec": {
   "display_name": "Python 3",
   "language": "python",
   "name": "python3"
  },
  "language_info": {
   "codemirror_mode": {
    "name": "ipython",
    "version": 3
   },
   "file_extension": ".py",
   "mimetype": "text/x-python",
   "name": "python",
   "nbconvert_exporter": "python",
   "pygments_lexer": "ipython3",
   "version": "3.7.4"
  }
 },
 "nbformat": 4,
 "nbformat_minor": 2
}
